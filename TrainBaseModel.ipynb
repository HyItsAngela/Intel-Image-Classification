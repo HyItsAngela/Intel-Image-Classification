{
 "cells": [
  {
   "cell_type": "markdown",
   "id": "d6995345",
   "metadata": {},
   "source": [
    "### Model: MobileNetV2\n",
    "This notebook trains a baseline model with the goal of implementing and training a transfer learning model. This model in particular uses data that has not been augmented and will later be compared against the same model using augmented data."
   ]
  },
  {
   "cell_type": "markdown",
   "id": "d6e69985",
   "metadata": {},
   "source": [
    "## Import Libraries & Load Data"
   ]
  },
  {
   "cell_type": "code",
   "execution_count": 2,
   "id": "d079e882",
   "metadata": {},
   "outputs": [
    {
     "name": "stderr",
     "output_type": "stream",
     "text": [
      "2024-08-07 16:09:47.761546: I tensorflow/core/util/port.cc:153] oneDNN custom operations are on. You may see slightly different numerical results due to floating-point round-off errors from different computation orders. To turn them off, set the environment variable `TF_ENABLE_ONEDNN_OPTS=0`.\n",
      "2024-08-07 16:09:47.762850: I external/local_xla/xla/tsl/cuda/cudart_stub.cc:32] Could not find cuda drivers on your machine, GPU will not be used.\n",
      "2024-08-07 16:09:47.770209: I external/local_xla/xla/tsl/cuda/cudart_stub.cc:32] Could not find cuda drivers on your machine, GPU will not be used.\n",
      "2024-08-07 16:09:47.783285: E external/local_xla/xla/stream_executor/cuda/cuda_fft.cc:485] Unable to register cuFFT factory: Attempting to register factory for plugin cuFFT when one has already been registered\n",
      "2024-08-07 16:09:47.801895: E external/local_xla/xla/stream_executor/cuda/cuda_dnn.cc:8454] Unable to register cuDNN factory: Attempting to register factory for plugin cuDNN when one has already been registered\n",
      "2024-08-07 16:09:47.806573: E external/local_xla/xla/stream_executor/cuda/cuda_blas.cc:1452] Unable to register cuBLAS factory: Attempting to register factory for plugin cuBLAS when one has already been registered\n",
      "2024-08-07 16:09:47.825968: I tensorflow/core/platform/cpu_feature_guard.cc:210] This TensorFlow binary is optimized to use available CPU instructions in performance-critical operations.\n",
      "To enable the following instructions: AVX2 AVX512F AVX512_VNNI FMA, in other operations, rebuild TensorFlow with the appropriate compiler flags.\n",
      "2024-08-07 16:09:48.857383: W tensorflow/compiler/tf2tensorrt/utils/py_utils.cc:38] TF-TRT Warning: Could not find TensorRT\n"
     ]
    }
   ],
   "source": [
    "import os\n",
    "import numpy as np\n",
    "import tensorflow as tf\n",
    "from tensorflow import keras\n",
    "from keras import layers\n",
    "import matplotlib.pyplot as plt\n",
    "from data_loader import load_dir, split_data, create_dataset, data_augmentation"
   ]
  },
  {
   "cell_type": "code",
   "execution_count": 3,
   "id": "bf7f1bdb",
   "metadata": {},
   "outputs": [],
   "source": [
    "# define \n",
    "classes = ['buildings', 'street']\n",
    "train_dir = 'first_100/seg_train/seg_train'\n",
    "test_dir = 'first_100/seg_test/seg_test'\n",
    "max_images = 50  # Number of images per class\n",
    "\n",
    "image_size=(224,224)\n",
    "num_classes=2"
   ]
  },
  {
   "cell_type": "code",
   "execution_count": 4,
   "id": "758475de",
   "metadata": {},
   "outputs": [],
   "source": [
    "# Load images and labels\n",
    "train_images, train_labels = load_dir(train_dir, classes, max_images, image_size)\n",
    "test_images, test_labels = load_dir(test_dir, classes, max_images, image_size)"
   ]
  },
  {
   "cell_type": "code",
   "execution_count": 5,
   "id": "38de4309",
   "metadata": {},
   "outputs": [
    {
     "name": "stdout",
     "output_type": "stream",
     "text": [
      "Found 200 files belonging to 2 classes.\n",
      "Using 80 files for training.\n",
      "Using 80 files for validation.\n"
     ]
    }
   ],
   "source": [
    "# Print the number of files found\n",
    "total_files = len(train_images) + len(test_images)\n",
    "print(f\"Found {total_files} files belonging to {len(classes)} classes.\")\n",
    "\n",
    "# Split the training data into train and validation sets\n",
    "train_images, train_labels, val_images, val_labels = split_data(train_images, train_labels, val_split=0.2)\n",
    "\n",
    "# Print the number of files used for training and validation\n",
    "print(f\"Using {len(train_images)} files for training.\")\n",
    "print(f\"Using {len(val_images)} files for validation.\")"
   ]
  },
  {
   "cell_type": "code",
   "execution_count": 6,
   "id": "9be93868",
   "metadata": {},
   "outputs": [],
   "source": [
    "# Create train and validation datasets\n",
    "train_ds = create_dataset(train_images, train_labels, batch_size=10)\n",
    "val_ds = create_dataset(val_images, val_labels, batch_size=10)\n",
    "\n",
    "test_ds = create_dataset(test_images, test_labels, batch_size=10)"
   ]
  },
  {
   "cell_type": "code",
   "execution_count": 7,
   "id": "da9b9c8b",
   "metadata": {},
   "outputs": [
    {
     "name": "stdout",
     "output_type": "stream",
     "text": [
      "Train batch shape: (10, 224, 224, 3) (10,)\n",
      "Test batch shape: (10, 224, 224, 3) (10,)\n"
     ]
    },
    {
     "name": "stderr",
     "output_type": "stream",
     "text": [
      "2024-08-07 16:09:53.534896: I tensorflow/core/framework/local_rendezvous.cc:404] Local rendezvous is aborting with status: OUT_OF_RANGE: End of sequence\n",
      "2024-08-07 16:09:53.586029: I tensorflow/core/framework/local_rendezvous.cc:404] Local rendezvous is aborting with status: OUT_OF_RANGE: End of sequence\n"
     ]
    }
   ],
   "source": [
    "# verify shapes\n",
    "for images, labels in train_ds.take(1):\n",
    "    print(\"Train batch shape:\", images.shape, labels.shape)\n",
    "\n",
    "for images, labels in test_ds.take(1):\n",
    "    print(\"Test batch shape:\", images.shape, labels.shape)"
   ]
  },
  {
   "cell_type": "markdown",
   "id": "2bf6e4d0",
   "metadata": {},
   "source": [
    "## Train Model"
   ]
  },
  {
   "cell_type": "code",
   "execution_count": 8,
   "id": "cb16adc1",
   "metadata": {},
   "outputs": [],
   "source": [
    "def make_transfer_model(input_shape, num_classes):\n",
    "    # Load the pre-trained weights of MobileNetV2 and freeze the weights\n",
    "    backbone = keras.applications.MobileNetV2(\n",
    "        weights=\"imagenet\",\n",
    "        include_top=False,\n",
    "        input_shape=input_shape,\n",
    "    )\n",
    "    backbone.trainable = False\n",
    "\n",
    "    inputs = layers.Input(input_shape)\n",
    "    x = keras.applications.mobilenet_v2.preprocess_input(inputs)\n",
    "    x = backbone(x)\n",
    "    x = layers.Dropout(0.3)(x)\n",
    "    \n",
    "    x = layers.GlobalAveragePooling2D()(x)\n",
    "    if num_classes == 2:\n",
    "        units = 1\n",
    "    else:\n",
    "        units = num_classes\n",
    "\n",
    "    x = layers.Dropout(0.25)(x)\n",
    "    # We specify activation=None so as to return logits\n",
    "    outputs = layers.Dense(units, activation=None)(x)\n",
    "\n",
    "    return keras.Model(inputs, outputs, name=\"keypoint_detector\")"
   ]
  },
  {
   "cell_type": "code",
   "execution_count": 9,
   "id": "a8b7d546",
   "metadata": {},
   "outputs": [],
   "source": [
    "model = make_transfer_model(input_shape=image_size + (3,), num_classes=2)"
   ]
  },
  {
   "cell_type": "code",
   "execution_count": 10,
   "id": "8c7c6440",
   "metadata": {},
   "outputs": [
    {
     "name": "stdout",
     "output_type": "stream",
     "text": [
      "Epoch 1/80\n",
      "\u001b[1m8/8\u001b[0m \u001b[32m━━━━━━━━━━━━━━━━━━━━\u001b[0m\u001b[37m\u001b[0m \u001b[1m8s\u001b[0m 498ms/step - acc: 0.4247 - loss: 1.0714 - val_acc: 0.3875 - val_loss: 0.7888\n",
      "Epoch 2/80\n",
      "\u001b[1m8/8\u001b[0m \u001b[32m━━━━━━━━━━━━━━━━━━━━\u001b[0m\u001b[37m\u001b[0m \u001b[1m2s\u001b[0m 328ms/step - acc: 0.4117 - loss: 0.7362 - val_acc: 0.5625 - val_loss: 0.6331\n",
      "Epoch 3/80\n",
      "\u001b[1m8/8\u001b[0m \u001b[32m━━━━━━━━━━━━━━━━━━━━\u001b[0m\u001b[37m\u001b[0m \u001b[1m2s\u001b[0m 318ms/step - acc: 0.5546 - loss: 0.6403 - val_acc: 0.6625 - val_loss: 0.5861\n",
      "Epoch 4/80\n",
      "\u001b[1m8/8\u001b[0m \u001b[32m━━━━━━━━━━━━━━━━━━━━\u001b[0m\u001b[37m\u001b[0m \u001b[1m3s\u001b[0m 340ms/step - acc: 0.6818 - loss: 0.5756 - val_acc: 0.7125 - val_loss: 0.5669\n",
      "Epoch 5/80\n",
      "\u001b[1m8/8\u001b[0m \u001b[32m━━━━━━━━━━━━━━━━━━━━\u001b[0m\u001b[37m\u001b[0m \u001b[1m2s\u001b[0m 329ms/step - acc: 0.7460 - loss: 0.5338 - val_acc: 0.7250 - val_loss: 0.5378\n",
      "Epoch 6/80\n",
      "\u001b[1m8/8\u001b[0m \u001b[32m━━━━━━━━━━━━━━━━━━━━\u001b[0m\u001b[37m\u001b[0m \u001b[1m2s\u001b[0m 320ms/step - acc: 0.7440 - loss: 0.5327 - val_acc: 0.7625 - val_loss: 0.5077\n",
      "Epoch 7/80\n",
      "\u001b[1m8/8\u001b[0m \u001b[32m━━━━━━━━━━━━━━━━━━━━\u001b[0m\u001b[37m\u001b[0m \u001b[1m2s\u001b[0m 318ms/step - acc: 0.7269 - loss: 0.6003 - val_acc: 0.8000 - val_loss: 0.4800\n",
      "Epoch 8/80\n",
      "\u001b[1m8/8\u001b[0m \u001b[32m━━━━━━━━━━━━━━━━━━━━\u001b[0m\u001b[37m\u001b[0m \u001b[1m3s\u001b[0m 366ms/step - acc: 0.7475 - loss: 0.4939 - val_acc: 0.7625 - val_loss: 0.4558\n",
      "Epoch 9/80\n",
      "\u001b[1m8/8\u001b[0m \u001b[32m━━━━━━━━━━━━━━━━━━━━\u001b[0m\u001b[37m\u001b[0m \u001b[1m2s\u001b[0m 319ms/step - acc: 0.7431 - loss: 0.4877 - val_acc: 0.7875 - val_loss: 0.4346\n",
      "Epoch 10/80\n",
      "\u001b[1m8/8\u001b[0m \u001b[32m━━━━━━━━━━━━━━━━━━━━\u001b[0m\u001b[37m\u001b[0m \u001b[1m2s\u001b[0m 320ms/step - acc: 0.7625 - loss: 0.4769 - val_acc: 0.8125 - val_loss: 0.4142\n",
      "Epoch 11/80\n",
      "\u001b[1m8/8\u001b[0m \u001b[32m━━━━━━━━━━━━━━━━━━━━\u001b[0m\u001b[37m\u001b[0m \u001b[1m2s\u001b[0m 325ms/step - acc: 0.8009 - loss: 0.4468 - val_acc: 0.8250 - val_loss: 0.3963\n",
      "Epoch 12/80\n",
      "\u001b[1m8/8\u001b[0m \u001b[32m━━━━━━━━━━━━━━━━━━━━\u001b[0m\u001b[37m\u001b[0m \u001b[1m2s\u001b[0m 318ms/step - acc: 0.7951 - loss: 0.4410 - val_acc: 0.8500 - val_loss: 0.3797\n",
      "Epoch 13/80\n",
      "\u001b[1m8/8\u001b[0m \u001b[32m━━━━━━━━━━━━━━━━━━━━\u001b[0m\u001b[37m\u001b[0m \u001b[1m2s\u001b[0m 310ms/step - acc: 0.8759 - loss: 0.4026 - val_acc: 0.8750 - val_loss: 0.3631\n",
      "Epoch 14/80\n",
      "\u001b[1m8/8\u001b[0m \u001b[32m━━━━━━━━━━━━━━━━━━━━\u001b[0m\u001b[37m\u001b[0m \u001b[1m2s\u001b[0m 311ms/step - acc: 0.7980 - loss: 0.4319 - val_acc: 0.9125 - val_loss: 0.3477\n",
      "Epoch 15/80\n",
      "\u001b[1m8/8\u001b[0m \u001b[32m━━━━━━━━━━━━━━━━━━━━\u001b[0m\u001b[37m\u001b[0m \u001b[1m2s\u001b[0m 320ms/step - acc: 0.8793 - loss: 0.3369 - val_acc: 0.9125 - val_loss: 0.3336\n",
      "Epoch 16/80\n",
      "\u001b[1m8/8\u001b[0m \u001b[32m━━━━━━━━━━━━━━━━━━━━\u001b[0m\u001b[37m\u001b[0m \u001b[1m2s\u001b[0m 322ms/step - acc: 0.9030 - loss: 0.3546 - val_acc: 0.9125 - val_loss: 0.3208\n",
      "Epoch 17/80\n",
      "\u001b[1m8/8\u001b[0m \u001b[32m━━━━━━━━━━━━━━━━━━━━\u001b[0m\u001b[37m\u001b[0m \u001b[1m2s\u001b[0m 322ms/step - acc: 0.9406 - loss: 0.3082 - val_acc: 0.9125 - val_loss: 0.3096\n",
      "Epoch 18/80\n",
      "\u001b[1m8/8\u001b[0m \u001b[32m━━━━━━━━━━━━━━━━━━━━\u001b[0m\u001b[37m\u001b[0m \u001b[1m2s\u001b[0m 317ms/step - acc: 0.8703 - loss: 0.3311 - val_acc: 0.9250 - val_loss: 0.2989\n",
      "Epoch 19/80\n",
      "\u001b[1m8/8\u001b[0m \u001b[32m━━━━━━━━━━━━━━━━━━━━\u001b[0m\u001b[37m\u001b[0m \u001b[1m2s\u001b[0m 329ms/step - acc: 0.9526 - loss: 0.2650 - val_acc: 0.9375 - val_loss: 0.2883\n",
      "Epoch 20/80\n",
      "\u001b[1m8/8\u001b[0m \u001b[32m━━━━━━━━━━━━━━━━━━━━\u001b[0m\u001b[37m\u001b[0m \u001b[1m2s\u001b[0m 326ms/step - acc: 0.8539 - loss: 0.3460 - val_acc: 0.9375 - val_loss: 0.2780\n",
      "Epoch 21/80\n",
      "\u001b[1m8/8\u001b[0m \u001b[32m━━━━━━━━━━━━━━━━━━━━\u001b[0m\u001b[37m\u001b[0m \u001b[1m2s\u001b[0m 313ms/step - acc: 0.8566 - loss: 0.3036 - val_acc: 0.9500 - val_loss: 0.2688\n",
      "Epoch 22/80\n",
      "\u001b[1m8/8\u001b[0m \u001b[32m━━━━━━━━━━━━━━━━━━━━\u001b[0m\u001b[37m\u001b[0m \u001b[1m2s\u001b[0m 313ms/step - acc: 0.9047 - loss: 0.2737 - val_acc: 0.9625 - val_loss: 0.2601\n",
      "Epoch 23/80\n",
      "\u001b[1m8/8\u001b[0m \u001b[32m━━━━━━━━━━━━━━━━━━━━\u001b[0m\u001b[37m\u001b[0m \u001b[1m3s\u001b[0m 373ms/step - acc: 0.8992 - loss: 0.2815 - val_acc: 0.9625 - val_loss: 0.2518\n",
      "Epoch 24/80\n",
      "\u001b[1m8/8\u001b[0m \u001b[32m━━━━━━━━━━━━━━━━━━━━\u001b[0m\u001b[37m\u001b[0m \u001b[1m3s\u001b[0m 376ms/step - acc: 0.9264 - loss: 0.2572 - val_acc: 0.9625 - val_loss: 0.2438\n",
      "Epoch 25/80\n",
      "\u001b[1m8/8\u001b[0m \u001b[32m━━━━━━━━━━━━━━━━━━━━\u001b[0m\u001b[37m\u001b[0m \u001b[1m2s\u001b[0m 318ms/step - acc: 0.8690 - loss: 0.2703 - val_acc: 0.9625 - val_loss: 0.2362\n",
      "Epoch 26/80\n",
      "\u001b[1m8/8\u001b[0m \u001b[32m━━━━━━━━━━━━━━━━━━━━\u001b[0m\u001b[37m\u001b[0m \u001b[1m2s\u001b[0m 315ms/step - acc: 0.9067 - loss: 0.2741 - val_acc: 0.9625 - val_loss: 0.2291\n",
      "Epoch 27/80\n",
      "\u001b[1m8/8\u001b[0m \u001b[32m━━━━━━━━━━━━━━━━━━━━\u001b[0m\u001b[37m\u001b[0m \u001b[1m2s\u001b[0m 318ms/step - acc: 0.9561 - loss: 0.2050 - val_acc: 0.9625 - val_loss: 0.2231\n",
      "Epoch 28/80\n",
      "\u001b[1m8/8\u001b[0m \u001b[32m━━━━━━━━━━━━━━━━━━━━\u001b[0m\u001b[37m\u001b[0m \u001b[1m2s\u001b[0m 311ms/step - acc: 0.9444 - loss: 0.2318 - val_acc: 0.9625 - val_loss: 0.2167\n",
      "Epoch 29/80\n",
      "\u001b[1m8/8\u001b[0m \u001b[32m━━━━━━━━━━━━━━━━━━━━\u001b[0m\u001b[37m\u001b[0m \u001b[1m2s\u001b[0m 306ms/step - acc: 0.9736 - loss: 0.2190 - val_acc: 0.9625 - val_loss: 0.2106\n",
      "Epoch 30/80\n",
      "\u001b[1m8/8\u001b[0m \u001b[32m━━━━━━━━━━━━━━━━━━━━\u001b[0m\u001b[37m\u001b[0m \u001b[1m2s\u001b[0m 309ms/step - acc: 0.9465 - loss: 0.2490 - val_acc: 0.9625 - val_loss: 0.2045\n",
      "Epoch 31/80\n",
      "\u001b[1m8/8\u001b[0m \u001b[32m━━━━━━━━━━━━━━━━━━━━\u001b[0m\u001b[37m\u001b[0m \u001b[1m2s\u001b[0m 309ms/step - acc: 0.9667 - loss: 0.1798 - val_acc: 0.9625 - val_loss: 0.1991\n",
      "Epoch 32/80\n",
      "\u001b[1m8/8\u001b[0m \u001b[32m━━━━━━━━━━━━━━━━━━━━\u001b[0m\u001b[37m\u001b[0m \u001b[1m2s\u001b[0m 333ms/step - acc: 0.9600 - loss: 0.2369 - val_acc: 0.9750 - val_loss: 0.1936\n",
      "Epoch 33/80\n",
      "\u001b[1m8/8\u001b[0m \u001b[32m━━━━━━━━━━━━━━━━━━━━\u001b[0m\u001b[37m\u001b[0m \u001b[1m3s\u001b[0m 372ms/step - acc: 0.9585 - loss: 0.2046 - val_acc: 0.9750 - val_loss: 0.1883\n",
      "Epoch 34/80\n",
      "\u001b[1m8/8\u001b[0m \u001b[32m━━━━━━━━━━━━━━━━━━━━\u001b[0m\u001b[37m\u001b[0m \u001b[1m3s\u001b[0m 369ms/step - acc: 0.9562 - loss: 0.1883 - val_acc: 0.9625 - val_loss: 0.1834\n",
      "Epoch 35/80\n",
      "\u001b[1m8/8\u001b[0m \u001b[32m━━━━━━━━━━━━━━━━━━━━\u001b[0m\u001b[37m\u001b[0m \u001b[1m3s\u001b[0m 433ms/step - acc: 0.9667 - loss: 0.1976 - val_acc: 0.9750 - val_loss: 0.1788\n",
      "Epoch 36/80\n",
      "\u001b[1m8/8\u001b[0m \u001b[32m━━━━━━━━━━━━━━━━━━━━\u001b[0m\u001b[37m\u001b[0m \u001b[1m2s\u001b[0m 324ms/step - acc: 0.9723 - loss: 0.1781 - val_acc: 0.9750 - val_loss: 0.1746\n",
      "Epoch 37/80\n",
      "\u001b[1m8/8\u001b[0m \u001b[32m━━━━━━━━━━━━━━━━━━━━\u001b[0m\u001b[37m\u001b[0m \u001b[1m2s\u001b[0m 308ms/step - acc: 0.9517 - loss: 0.1711 - val_acc: 0.9750 - val_loss: 0.1702\n",
      "Epoch 38/80\n",
      "\u001b[1m8/8\u001b[0m \u001b[32m━━━━━━━━━━━━━━━━━━━━\u001b[0m\u001b[37m\u001b[0m \u001b[1m2s\u001b[0m 308ms/step - acc: 0.9479 - loss: 0.2276 - val_acc: 0.9750 - val_loss: 0.1661\n",
      "Epoch 39/80\n",
      "\u001b[1m8/8\u001b[0m \u001b[32m━━━━━━━━━━━━━━━━━━━━\u001b[0m\u001b[37m\u001b[0m \u001b[1m2s\u001b[0m 330ms/step - acc: 0.9503 - loss: 0.1702 - val_acc: 0.9750 - val_loss: 0.1624\n",
      "Epoch 40/80\n",
      "\u001b[1m8/8\u001b[0m \u001b[32m━━━━━━━━━━━━━━━━━━━━\u001b[0m\u001b[37m\u001b[0m \u001b[1m2s\u001b[0m 306ms/step - acc: 0.9851 - loss: 0.1767 - val_acc: 0.9875 - val_loss: 0.1588\n",
      "Epoch 41/80\n",
      "\u001b[1m8/8\u001b[0m \u001b[32m━━━━━━━━━━━━━━━━━━━━\u001b[0m\u001b[37m\u001b[0m \u001b[1m2s\u001b[0m 310ms/step - acc: 0.9423 - loss: 0.1634 - val_acc: 0.9875 - val_loss: 0.1554\n",
      "Epoch 42/80\n",
      "\u001b[1m8/8\u001b[0m \u001b[32m━━━━━━━━━━━━━━━━━━━━\u001b[0m\u001b[37m\u001b[0m \u001b[1m2s\u001b[0m 312ms/step - acc: 0.9239 - loss: 0.2063 - val_acc: 0.9875 - val_loss: 0.1521\n",
      "Epoch 43/80\n",
      "\u001b[1m8/8\u001b[0m \u001b[32m━━━━━━━━━━━━━━━━━━━━\u001b[0m\u001b[37m\u001b[0m \u001b[1m2s\u001b[0m 308ms/step - acc: 0.9972 - loss: 0.1400 - val_acc: 0.9875 - val_loss: 0.1485\n",
      "Epoch 44/80\n",
      "\u001b[1m8/8\u001b[0m \u001b[32m━━━━━━━━━━━━━━━━━━━━\u001b[0m\u001b[37m\u001b[0m \u001b[1m2s\u001b[0m 313ms/step - acc: 0.9972 - loss: 0.1355 - val_acc: 0.9875 - val_loss: 0.1454\n",
      "Epoch 45/80\n",
      "\u001b[1m8/8\u001b[0m \u001b[32m━━━━━━━━━━━━━━━━━━━━\u001b[0m\u001b[37m\u001b[0m \u001b[1m2s\u001b[0m 316ms/step - acc: 0.9739 - loss: 0.1509 - val_acc: 0.9875 - val_loss: 0.1423\n",
      "Epoch 46/80\n",
      "\u001b[1m8/8\u001b[0m \u001b[32m━━━━━━━━━━━━━━━━━━━━\u001b[0m\u001b[37m\u001b[0m \u001b[1m2s\u001b[0m 327ms/step - acc: 0.9684 - loss: 0.1599 - val_acc: 0.9875 - val_loss: 0.1396\n",
      "Epoch 47/80\n",
      "\u001b[1m8/8\u001b[0m \u001b[32m━━━━━━━━━━━━━━━━━━━━\u001b[0m\u001b[37m\u001b[0m \u001b[1m2s\u001b[0m 309ms/step - acc: 0.9422 - loss: 0.1659 - val_acc: 0.9875 - val_loss: 0.1367\n",
      "Epoch 48/80\n",
      "\u001b[1m8/8\u001b[0m \u001b[32m━━━━━━━━━━━━━━━━━━━━\u001b[0m\u001b[37m\u001b[0m \u001b[1m2s\u001b[0m 321ms/step - acc: 0.9851 - loss: 0.1601 - val_acc: 0.9875 - val_loss: 0.1340\n",
      "Epoch 49/80\n",
      "\u001b[1m8/8\u001b[0m \u001b[32m━━━━━━━━━━━━━━━━━━━━\u001b[0m\u001b[37m\u001b[0m \u001b[1m2s\u001b[0m 311ms/step - acc: 0.9972 - loss: 0.1254 - val_acc: 0.9875 - val_loss: 0.1311\n",
      "Epoch 50/80\n",
      "\u001b[1m8/8\u001b[0m \u001b[32m━━━━━━━━━━━━━━━━━━━━\u001b[0m\u001b[37m\u001b[0m \u001b[1m2s\u001b[0m 313ms/step - acc: 0.9367 - loss: 0.1479 - val_acc: 0.9875 - val_loss: 0.1283\n",
      "Epoch 51/80\n",
      "\u001b[1m8/8\u001b[0m \u001b[32m━━━━━━━━━━━━━━━━━━━━\u001b[0m\u001b[37m\u001b[0m \u001b[1m2s\u001b[0m 311ms/step - acc: 0.9807 - loss: 0.1317 - val_acc: 0.9875 - val_loss: 0.1259\n",
      "Epoch 52/80\n",
      "\u001b[1m8/8\u001b[0m \u001b[32m━━━━━━━━━━━━━━━━━━━━\u001b[0m\u001b[37m\u001b[0m \u001b[1m2s\u001b[0m 310ms/step - acc: 0.9488 - loss: 0.1643 - val_acc: 0.9875 - val_loss: 0.1233\n",
      "Epoch 53/80\n",
      "\u001b[1m8/8\u001b[0m \u001b[32m━━━━━━━━━━━━━━━━━━━━\u001b[0m\u001b[37m\u001b[0m \u001b[1m2s\u001b[0m 315ms/step - acc: 0.9602 - loss: 0.1559 - val_acc: 0.9875 - val_loss: 0.1207\n",
      "Epoch 54/80\n",
      "\u001b[1m8/8\u001b[0m \u001b[32m━━━━━━━━━━━━━━━━━━━━\u001b[0m\u001b[37m\u001b[0m \u001b[1m2s\u001b[0m 312ms/step - acc: 0.9656 - loss: 0.1269 - val_acc: 0.9875 - val_loss: 0.1186\n",
      "Epoch 55/80\n"
     ]
    },
    {
     "name": "stdout",
     "output_type": "stream",
     "text": [
      "\u001b[1m8/8\u001b[0m \u001b[32m━━━━━━━━━━━━━━━━━━━━\u001b[0m\u001b[37m\u001b[0m \u001b[1m3s\u001b[0m 382ms/step - acc: 0.9394 - loss: 0.1515 - val_acc: 0.9875 - val_loss: 0.1161\n",
      "Epoch 56/80\n",
      "\u001b[1m8/8\u001b[0m \u001b[32m━━━━━━━━━━━━━━━━━━━━\u001b[0m\u001b[37m\u001b[0m \u001b[1m3s\u001b[0m 367ms/step - acc: 0.9767 - loss: 0.1244 - val_acc: 0.9875 - val_loss: 0.1137\n",
      "Epoch 57/80\n",
      "\u001b[1m8/8\u001b[0m \u001b[32m━━━━━━━━━━━━━━━━━━━━\u001b[0m\u001b[37m\u001b[0m \u001b[1m3s\u001b[0m 403ms/step - acc: 0.9910 - loss: 0.1260 - val_acc: 0.9875 - val_loss: 0.1114\n",
      "Epoch 58/80\n",
      "\u001b[1m8/8\u001b[0m \u001b[32m━━━━━━━━━━━━━━━━━━━━\u001b[0m\u001b[37m\u001b[0m \u001b[1m3s\u001b[0m 374ms/step - acc: 0.9683 - loss: 0.1248 - val_acc: 0.9875 - val_loss: 0.1097\n",
      "Epoch 59/80\n",
      "\u001b[1m8/8\u001b[0m \u001b[32m━━━━━━━━━━━━━━━━━━━━\u001b[0m\u001b[37m\u001b[0m \u001b[1m3s\u001b[0m 347ms/step - acc: 0.9766 - loss: 0.1336 - val_acc: 0.9875 - val_loss: 0.1072\n",
      "Epoch 60/80\n",
      "\u001b[1m8/8\u001b[0m \u001b[32m━━━━━━━━━━━━━━━━━━━━\u001b[0m\u001b[37m\u001b[0m \u001b[1m3s\u001b[0m 345ms/step - acc: 0.9803 - loss: 0.1384 - val_acc: 0.9875 - val_loss: 0.1049\n",
      "Epoch 61/80\n",
      "\u001b[1m8/8\u001b[0m \u001b[32m━━━━━━━━━━━━━━━━━━━━\u001b[0m\u001b[37m\u001b[0m \u001b[1m3s\u001b[0m 344ms/step - acc: 0.9938 - loss: 0.0868 - val_acc: 0.9875 - val_loss: 0.1030\n",
      "Epoch 62/80\n",
      "\u001b[1m8/8\u001b[0m \u001b[32m━━━━━━━━━━━━━━━━━━━━\u001b[0m\u001b[37m\u001b[0m \u001b[1m3s\u001b[0m 347ms/step - acc: 0.9739 - loss: 0.1037 - val_acc: 0.9875 - val_loss: 0.1012\n",
      "Epoch 63/80\n",
      "\u001b[1m8/8\u001b[0m \u001b[32m━━━━━━━━━━━━━━━━━━━━\u001b[0m\u001b[37m\u001b[0m \u001b[1m3s\u001b[0m 346ms/step - acc: 0.9956 - loss: 0.1156 - val_acc: 0.9875 - val_loss: 0.0994\n",
      "Epoch 64/80\n",
      "\u001b[1m8/8\u001b[0m \u001b[32m━━━━━━━━━━━━━━━━━━━━\u001b[0m\u001b[37m\u001b[0m \u001b[1m3s\u001b[0m 344ms/step - acc: 0.9572 - loss: 0.1305 - val_acc: 0.9875 - val_loss: 0.0976\n",
      "Epoch 65/80\n",
      "\u001b[1m8/8\u001b[0m \u001b[32m━━━━━━━━━━━━━━━━━━━━\u001b[0m\u001b[37m\u001b[0m \u001b[1m3s\u001b[0m 342ms/step - acc: 0.9572 - loss: 0.1137 - val_acc: 0.9875 - val_loss: 0.0959\n",
      "Epoch 66/80\n",
      "\u001b[1m8/8\u001b[0m \u001b[32m━━━━━━━━━━━━━━━━━━━━\u001b[0m\u001b[37m\u001b[0m \u001b[1m3s\u001b[0m 343ms/step - acc: 0.9916 - loss: 0.1007 - val_acc: 0.9875 - val_loss: 0.0942\n",
      "Epoch 67/80\n",
      "\u001b[1m8/8\u001b[0m \u001b[32m━━━━━━━━━━━━━━━━━━━━\u001b[0m\u001b[37m\u001b[0m \u001b[1m3s\u001b[0m 348ms/step - acc: 0.9956 - loss: 0.0811 - val_acc: 0.9875 - val_loss: 0.0925\n",
      "Epoch 68/80\n",
      "\u001b[1m8/8\u001b[0m \u001b[32m━━━━━━━━━━━━━━━━━━━━\u001b[0m\u001b[37m\u001b[0m \u001b[1m3s\u001b[0m 346ms/step - acc: 0.9888 - loss: 0.1109 - val_acc: 0.9875 - val_loss: 0.0907\n",
      "Epoch 69/80\n",
      "\u001b[1m8/8\u001b[0m \u001b[32m━━━━━━━━━━━━━━━━━━━━\u001b[0m\u001b[37m\u001b[0m \u001b[1m3s\u001b[0m 340ms/step - acc: 0.9473 - loss: 0.1516 - val_acc: 0.9875 - val_loss: 0.0894\n",
      "Epoch 70/80\n",
      "\u001b[1m8/8\u001b[0m \u001b[32m━━━━━━━━━━━━━━━━━━━━\u001b[0m\u001b[37m\u001b[0m \u001b[1m3s\u001b[0m 341ms/step - acc: 0.9888 - loss: 0.1181 - val_acc: 0.9875 - val_loss: 0.0876\n",
      "Epoch 71/80\n",
      "\u001b[1m8/8\u001b[0m \u001b[32m━━━━━━━━━━━━━━━━━━━━\u001b[0m\u001b[37m\u001b[0m \u001b[1m3s\u001b[0m 341ms/step - acc: 0.9888 - loss: 0.0988 - val_acc: 0.9875 - val_loss: 0.0860\n",
      "Epoch 72/80\n",
      "\u001b[1m8/8\u001b[0m \u001b[32m━━━━━━━━━━━━━━━━━━━━\u001b[0m\u001b[37m\u001b[0m \u001b[1m3s\u001b[0m 345ms/step - acc: 0.9916 - loss: 0.0773 - val_acc: 0.9875 - val_loss: 0.0847\n",
      "Epoch 73/80\n",
      "\u001b[1m8/8\u001b[0m \u001b[32m━━━━━━━━━━━━━━━━━━━━\u001b[0m\u001b[37m\u001b[0m \u001b[1m3s\u001b[0m 341ms/step - acc: 0.9938 - loss: 0.1315 - val_acc: 0.9875 - val_loss: 0.0832\n",
      "Epoch 74/80\n",
      "\u001b[1m8/8\u001b[0m \u001b[32m━━━━━━━━━━━━━━━━━━━━\u001b[0m\u001b[37m\u001b[0m \u001b[1m3s\u001b[0m 340ms/step - acc: 0.9763 - loss: 0.1030 - val_acc: 0.9875 - val_loss: 0.0819\n",
      "Epoch 75/80\n",
      "\u001b[1m8/8\u001b[0m \u001b[32m━━━━━━━━━━━━━━━━━━━━\u001b[0m\u001b[37m\u001b[0m \u001b[1m3s\u001b[0m 344ms/step - acc: 0.9916 - loss: 0.0752 - val_acc: 0.9875 - val_loss: 0.0807\n",
      "Epoch 76/80\n",
      "\u001b[1m8/8\u001b[0m \u001b[32m━━━━━━━━━━━━━━━━━━━━\u001b[0m\u001b[37m\u001b[0m \u001b[1m3s\u001b[0m 343ms/step - acc: 0.9888 - loss: 0.0838 - val_acc: 0.9875 - val_loss: 0.0794\n",
      "Epoch 77/80\n",
      "\u001b[1m8/8\u001b[0m \u001b[32m━━━━━━━━━━━━━━━━━━━━\u001b[0m\u001b[37m\u001b[0m \u001b[1m3s\u001b[0m 365ms/step - acc: 0.9795 - loss: 0.1044 - val_acc: 0.9875 - val_loss: 0.0780\n",
      "Epoch 78/80\n",
      "\u001b[1m8/8\u001b[0m \u001b[32m━━━━━━━━━━━━━━━━━━━━\u001b[0m\u001b[37m\u001b[0m \u001b[1m3s\u001b[0m 342ms/step - acc: 1.0000 - loss: 0.0813 - val_acc: 0.9875 - val_loss: 0.0768\n",
      "Epoch 79/80\n",
      "\u001b[1m8/8\u001b[0m \u001b[32m━━━━━━━━━━━━━━━━━━━━\u001b[0m\u001b[37m\u001b[0m \u001b[1m3s\u001b[0m 358ms/step - acc: 1.0000 - loss: 0.0786 - val_acc: 0.9875 - val_loss: 0.0756\n",
      "Epoch 80/80\n",
      "\u001b[1m8/8\u001b[0m \u001b[32m━━━━━━━━━━━━━━━━━━━━\u001b[0m\u001b[37m\u001b[0m \u001b[1m11s\u001b[0m 2s/step - acc: 0.9795 - loss: 0.1063 - val_acc: 0.9875 - val_loss: 0.0744\n"
     ]
    }
   ],
   "source": [
    "epochs = 80\n",
    "\n",
    "callbacks = [\n",
    "    keras.callbacks.ModelCheckpoint(\"save_at_{epoch}.keras\"),\n",
    "]\n",
    "model.compile(\n",
    "    optimizer=keras.optimizers.Adam(learning_rate=3e-4), # changed to updated optimizer API\n",
    "    loss=keras.losses.BinaryCrossentropy(from_logits=True),\n",
    "    metrics=[keras.metrics.BinaryAccuracy(name=\"acc\")],\n",
    ")\n",
    "\n",
    "history = model.fit(\n",
    "    train_ds,\n",
    "    epochs=epochs,\n",
    "    callbacks=callbacks,\n",
    "    validation_data=val_ds,\n",
    ")"
   ]
  },
  {
   "cell_type": "code",
   "execution_count": 11,
   "id": "b4a6fe8d",
   "metadata": {},
   "outputs": [
    {
     "data": {
      "text/plain": [
       "<matplotlib.legend.Legend at 0x7fd1e878b910>"
      ]
     },
     "execution_count": 11,
     "metadata": {},
     "output_type": "execute_result"
    },
    {
     "data": {
      "image/png": "[encoded data removed]",
      "text/plain": [
       "<Figure size 432x288 with 1 Axes>"
      ]
     },
     "metadata": {
      "needs_background": "light"
     },
     "output_type": "display_data"
    }
   ],
   "source": [
    "plt.plot(range(len(history.history[\"loss\"])),history.history[\"loss\"],label=\"Training Loss\")\n",
    "plt.plot(range(len(history.history[\"val_loss\"])),history.history[\"val_loss\"],label=\"Validation Loss\")\n",
    "plt.legend()"
   ]
  },
  {
   "cell_type": "code",
   "execution_count": 12,
   "id": "84c514b5",
   "metadata": {},
   "outputs": [
    {
     "data": {
      "text/plain": [
       "<matplotlib.legend.Legend at 0x7fd17462b730>"
      ]
     },
     "execution_count": 12,
     "metadata": {},
     "output_type": "execute_result"
    },
    {
     "data": {
      "image/png": "[encoded data removed]",
      "text/plain": [
       "<Figure size 432x288 with 1 Axes>"
      ]
     },
     "metadata": {
      "needs_background": "light"
     },
     "output_type": "display_data"
    }
   ],
   "source": [
    "plt.plot(range(len(history.history[\"acc\"])),history.history[\"acc\"],label=\"Training Loss\")\n",
    "plt.plot(range(len(history.history[\"val_acc\"])),history.history[\"val_acc\"],label=\"Validation Loss\")\n",
    "plt.legend()"
   ]
  },
  {
   "cell_type": "code",
   "execution_count": 13,
   "id": "ac20a2ce",
   "metadata": {},
   "outputs": [],
   "source": [
    "# save model\n",
    "\n",
    "model_dir='Models'\n",
    "os.makedirs(model_dir,exist_ok=True)\n",
    "\n",
    "model_path=os.path.join(model_dir,'BaseModel.keras')\n",
    "model.save(model_path)"
   ]
  },
  {
   "cell_type": "code",
   "execution_count": null,
   "id": "fd7ed398",
   "metadata": {},
   "outputs": [],
   "source": []
  }
 ],
 "metadata": {
  "kernelspec": {
   "display_name": "Python 3 (ipykernel)",
   "language": "python",
   "name": "python3"
  },
  "language_info": {
   "codemirror_mode": {
    "name": "ipython",
    "version": 3
   },
   "file_extension": ".py",
   "mimetype": "text/x-python",
   "name": "python",
   "nbconvert_exporter": "python",
   "pygments_lexer": "ipython3",
   "version": "3.10.12"
  }
 },
 "nbformat": 4,
 "nbformat_minor": 5
}
