{
 "cells": [
  {
   "cell_type": "markdown",
   "id": "a24aec77",
   "metadata": {},
   "source": [
    "### Model: InceptionResNetV2"
   ]
  },
  {
   "cell_type": "markdown",
   "id": "7b9b93e4",
   "metadata": {},
   "source": [
    "## Import Libraries & Load Data"
   ]
  },
  {
   "cell_type": "code",
   "execution_count": 1,
   "id": "11f02432",
   "metadata": {},
   "outputs": [
    {
     "name": "stderr",
     "output_type": "stream",
     "text": [
      "2024-08-07 16:48:07.566576: I tensorflow/core/util/port.cc:153] oneDNN custom operations are on. You may see slightly different numerical results due to floating-point round-off errors from different computation orders. To turn them off, set the environment variable `TF_ENABLE_ONEDNN_OPTS=0`.\n",
      "2024-08-07 16:48:07.575862: I external/local_xla/xla/tsl/cuda/cudart_stub.cc:32] Could not find cuda drivers on your machine, GPU will not be used.\n",
      "2024-08-07 16:48:07.648827: I external/local_xla/xla/tsl/cuda/cudart_stub.cc:32] Could not find cuda drivers on your machine, GPU will not be used.\n",
      "2024-08-07 16:48:07.765255: E external/local_xla/xla/stream_executor/cuda/cuda_fft.cc:485] Unable to register cuFFT factory: Attempting to register factory for plugin cuFFT when one has already been registered\n",
      "2024-08-07 16:48:07.828195: E external/local_xla/xla/stream_executor/cuda/cuda_dnn.cc:8454] Unable to register cuDNN factory: Attempting to register factory for plugin cuDNN when one has already been registered\n",
      "2024-08-07 16:48:07.854670: E external/local_xla/xla/stream_executor/cuda/cuda_blas.cc:1452] Unable to register cuBLAS factory: Attempting to register factory for plugin cuBLAS when one has already been registered\n",
      "2024-08-07 16:48:07.998219: I tensorflow/core/platform/cpu_feature_guard.cc:210] This TensorFlow binary is optimized to use available CPU instructions in performance-critical operations.\n",
      "To enable the following instructions: AVX2 AVX512F AVX512_VNNI FMA, in other operations, rebuild TensorFlow with the appropriate compiler flags.\n",
      "2024-08-07 16:48:10.526273: W tensorflow/compiler/tf2tensorrt/utils/py_utils.cc:38] TF-TRT Warning: Could not find TensorRT\n"
     ]
    }
   ],
   "source": [
    "import os\n",
    "import numpy as np\n",
    "import tensorflow as tf\n",
    "from tensorflow import keras\n",
    "from keras import layers\n",
    "import matplotlib.pyplot as plt\n",
    "from data_loader import load_dir, split_data, create_dataset, data_augmentation"
   ]
  },
  {
   "cell_type": "code",
   "execution_count": 2,
   "id": "d63c0d13",
   "metadata": {},
   "outputs": [],
   "source": [
    "# define \n",
    "classes = ['buildings', 'street']\n",
    "train_dir = 'first_100/seg_train/seg_train'\n",
    "test_dir = 'first_100/seg_test/seg_test'\n",
    "max_images = 50  # Number of images per class\n",
    "\n",
    "image_size=(299,299) #NASnet requires a larger image size\n",
    "num_classes=2"
   ]
  },
  {
   "cell_type": "code",
   "execution_count": 3,
   "id": "fbe45091",
   "metadata": {},
   "outputs": [],
   "source": [
    "# Load images and labels\n",
    "train_images, train_labels = load_dir(train_dir, classes, max_images, image_size)\n",
    "test_images, test_labels = load_dir(test_dir, classes, max_images, image_size)"
   ]
  },
  {
   "cell_type": "code",
   "execution_count": 4,
   "id": "31aece1e",
   "metadata": {},
   "outputs": [],
   "source": [
    "# Split the training data into train and validation sets\n",
    "train_images, train_labels, val_images, val_labels = split_data(train_images, train_labels, val_split=0.2)"
   ]
  },
  {
   "cell_type": "code",
   "execution_count": 5,
   "id": "7ed03b96",
   "metadata": {},
   "outputs": [],
   "source": [
    "# Create train and validation datasets\n",
    "train_ds = create_dataset(train_images, train_labels, batch_size=10)\n",
    "val_ds = create_dataset(val_images, val_labels, batch_size=10)\n",
    "\n",
    "test_ds = create_dataset(test_images, test_labels, batch_size=10)"
   ]
  },
  {
   "cell_type": "markdown",
   "id": "586e834f",
   "metadata": {},
   "source": [
    "## Train Model"
   ]
  },
  {
   "cell_type": "code",
   "execution_count": 6,
   "id": "07bb84f4",
   "metadata": {},
   "outputs": [],
   "source": [
    "def make_transfer_model(input_shape, num_classes):\n",
    "    # Load the pre-trained weights of InceptionResNetV2 and freeze the weights\n",
    "    backbone = keras.applications.InceptionResNetV2(\n",
    "        weights=\"imagenet\",\n",
    "        include_top=False,\n",
    "        input_shape=input_shape,\n",
    "    )\n",
    "    backbone.trainable = False\n",
    "\n",
    "    inputs = layers.Input(input_shape)\n",
    "    x = keras.applications.inception_resnet_v2.preprocess_input(inputs)\n",
    "    x = backbone(x)\n",
    "    x = layers.Dropout(0.3)(x)\n",
    "    \n",
    "    x = layers.GlobalAveragePooling2D()(x)\n",
    "    if num_classes == 2:\n",
    "        units = 1\n",
    "    else:\n",
    "        units = num_classes\n",
    "\n",
    "    x = layers.Dropout(0.25)(x)\n",
    "    # We specify activation=None so as to return logits\n",
    "    outputs = layers.Dense(units, activation=None)(x)\n",
    "\n",
    "    return keras.Model(inputs, outputs, name=\"keypoint_detector\")"
   ]
  },
  {
   "cell_type": "code",
   "execution_count": 7,
   "id": "e548d491",
   "metadata": {},
   "outputs": [],
   "source": [
    "model = make_transfer_model(input_shape=image_size + (3,), num_classes=2)"
   ]
  },
  {
   "cell_type": "code",
   "execution_count": 8,
   "id": "298a3c7b",
   "metadata": {},
   "outputs": [
    {
     "name": "stdout",
     "output_type": "stream",
     "text": [
      "Epoch 1/30\n",
      "\u001b[1m8/8\u001b[0m \u001b[32m━━━━━━━━━━━━━━━━━━━━\u001b[0m\u001b[37m\u001b[0m \u001b[1m61s\u001b[0m 6s/step - acc: 0.4454 - loss: 0.6956 - val_acc: 0.6625 - val_loss: 0.6039\n",
      "Epoch 2/30\n",
      "\u001b[1m8/8\u001b[0m \u001b[32m━━━━━━━━━━━━━━━━━━━━\u001b[0m\u001b[37m\u001b[0m \u001b[1m44s\u001b[0m 6s/step - acc: 0.6401 - loss: 0.6231 - val_acc: 0.7375 - val_loss: 0.5748\n",
      "Epoch 3/30\n",
      "\u001b[1m8/8\u001b[0m \u001b[32m━━━━━━━━━━━━━━━━━━━━\u001b[0m\u001b[37m\u001b[0m \u001b[1m43s\u001b[0m 6s/step - acc: 0.7207 - loss: 0.5761 - val_acc: 0.7500 - val_loss: 0.5546\n",
      "Epoch 4/30\n",
      "\u001b[1m8/8\u001b[0m \u001b[32m━━━━━━━━━━━━━━━━━━━━\u001b[0m\u001b[37m\u001b[0m \u001b[1m41s\u001b[0m 6s/step - acc: 0.7523 - loss: 0.5416 - val_acc: 0.7750 - val_loss: 0.5283\n",
      "Epoch 5/30\n",
      "\u001b[1m8/8\u001b[0m \u001b[32m━━━━━━━━━━━━━━━━━━━━\u001b[0m\u001b[37m\u001b[0m \u001b[1m38s\u001b[0m 5s/step - acc: 0.7838 - loss: 0.5780 - val_acc: 0.8375 - val_loss: 0.5005\n",
      "Epoch 6/30\n",
      "\u001b[1m8/8\u001b[0m \u001b[32m━━━━━━━━━━━━━━━━━━━━\u001b[0m\u001b[37m\u001b[0m \u001b[1m41s\u001b[0m 6s/step - acc: 0.7956 - loss: 0.4846 - val_acc: 0.8500 - val_loss: 0.4803\n",
      "Epoch 7/30\n",
      "\u001b[1m8/8\u001b[0m \u001b[32m━━━━━━━━━━━━━━━━━━━━\u001b[0m\u001b[37m\u001b[0m \u001b[1m36s\u001b[0m 5s/step - acc: 0.9089 - loss: 0.4588 - val_acc: 0.8750 - val_loss: 0.4605\n",
      "Epoch 8/30\n",
      "\u001b[1m8/8\u001b[0m \u001b[32m━━━━━━━━━━━━━━━━━━━━\u001b[0m\u001b[37m\u001b[0m \u001b[1m41s\u001b[0m 6s/step - acc: 0.8449 - loss: 0.4313 - val_acc: 0.8875 - val_loss: 0.4423\n",
      "Epoch 9/30\n",
      "\u001b[1m8/8\u001b[0m \u001b[32m━━━━━━━━━━━━━━━━━━━━\u001b[0m\u001b[37m\u001b[0m \u001b[1m37s\u001b[0m 5s/step - acc: 0.7403 - loss: 0.5482 - val_acc: 0.9250 - val_loss: 0.4246\n",
      "Epoch 10/30\n",
      "\u001b[1m8/8\u001b[0m \u001b[32m━━━━━━━━━━━━━━━━━━━━\u001b[0m\u001b[37m\u001b[0m \u001b[1m38s\u001b[0m 5s/step - acc: 0.7856 - loss: 0.4987 - val_acc: 0.9375 - val_loss: 0.4082\n",
      "Epoch 11/30\n",
      "\u001b[1m8/8\u001b[0m \u001b[32m━━━━━━━━━━━━━━━━━━━━\u001b[0m\u001b[37m\u001b[0m \u001b[1m38s\u001b[0m 5s/step - acc: 0.9189 - loss: 0.4112 - val_acc: 0.9375 - val_loss: 0.3939\n",
      "Epoch 12/30\n",
      "\u001b[1m8/8\u001b[0m \u001b[32m━━━━━━━━━━━━━━━━━━━━\u001b[0m\u001b[37m\u001b[0m \u001b[1m37s\u001b[0m 5s/step - acc: 0.8733 - loss: 0.4444 - val_acc: 0.9500 - val_loss: 0.3800\n",
      "Epoch 13/30\n",
      "\u001b[1m8/8\u001b[0m \u001b[32m━━━━━━━━━━━━━━━━━━━━\u001b[0m\u001b[37m\u001b[0m \u001b[1m36s\u001b[0m 5s/step - acc: 0.9437 - loss: 0.3514 - val_acc: 0.9625 - val_loss: 0.3669\n",
      "Epoch 14/30\n",
      "\u001b[1m8/8\u001b[0m \u001b[32m━━━━━━━━━━━━━━━━━━━━\u001b[0m\u001b[37m\u001b[0m \u001b[1m36s\u001b[0m 5s/step - acc: 0.9518 - loss: 0.3154 - val_acc: 0.9625 - val_loss: 0.3552\n",
      "Epoch 15/30\n",
      "\u001b[1m8/8\u001b[0m \u001b[32m━━━━━━━━━━━━━━━━━━━━\u001b[0m\u001b[37m\u001b[0m \u001b[1m36s\u001b[0m 5s/step - acc: 0.9251 - loss: 0.3410 - val_acc: 0.9625 - val_loss: 0.3441\n",
      "Epoch 16/30\n",
      "\u001b[1m8/8\u001b[0m \u001b[32m━━━━━━━━━━━━━━━━━━━━\u001b[0m\u001b[37m\u001b[0m \u001b[1m39s\u001b[0m 5s/step - acc: 0.9546 - loss: 0.3342 - val_acc: 0.9625 - val_loss: 0.3334\n",
      "Epoch 17/30\n",
      "\u001b[1m8/8\u001b[0m \u001b[32m━━━━━━━━━━━━━━━━━━━━\u001b[0m\u001b[37m\u001b[0m \u001b[1m36s\u001b[0m 5s/step - acc: 0.9466 - loss: 0.3366 - val_acc: 0.9625 - val_loss: 0.3235\n",
      "Epoch 18/30\n",
      "\u001b[1m8/8\u001b[0m \u001b[32m━━━━━━━━━━━━━━━━━━━━\u001b[0m\u001b[37m\u001b[0m \u001b[1m38s\u001b[0m 5s/step - acc: 0.9024 - loss: 0.3305 - val_acc: 0.9625 - val_loss: 0.3139\n",
      "Epoch 19/30\n",
      "\u001b[1m8/8\u001b[0m \u001b[32m━━━━━━━━━━━━━━━━━━━━\u001b[0m\u001b[37m\u001b[0m \u001b[1m37s\u001b[0m 5s/step - acc: 0.9174 - loss: 0.3902 - val_acc: 0.9625 - val_loss: 0.3047\n",
      "Epoch 20/30\n",
      "\u001b[1m8/8\u001b[0m \u001b[32m━━━━━━━━━━━━━━━━━━━━\u001b[0m\u001b[37m\u001b[0m \u001b[1m39s\u001b[0m 5s/step - acc: 0.9766 - loss: 0.2881 - val_acc: 0.9625 - val_loss: 0.2961\n",
      "Epoch 21/30\n",
      "\u001b[1m8/8\u001b[0m \u001b[32m━━━━━━━━━━━━━━━━━━━━\u001b[0m\u001b[37m\u001b[0m \u001b[1m37s\u001b[0m 5s/step - acc: 0.9185 - loss: 0.3626 - val_acc: 0.9625 - val_loss: 0.2880\n",
      "Epoch 22/30\n",
      "\u001b[1m8/8\u001b[0m \u001b[32m━━━━━━━━━━━━━━━━━━━━\u001b[0m\u001b[37m\u001b[0m \u001b[1m34s\u001b[0m 5s/step - acc: 0.9788 - loss: 0.2511 - val_acc: 0.9500 - val_loss: 0.2814\n",
      "Epoch 23/30\n",
      "\u001b[1m8/8\u001b[0m \u001b[32m━━━━━━━━━━━━━━━━━━━━\u001b[0m\u001b[37m\u001b[0m \u001b[1m37s\u001b[0m 5s/step - acc: 0.9367 - loss: 0.3181 - val_acc: 0.9625 - val_loss: 0.2740\n",
      "Epoch 24/30\n",
      "\u001b[1m8/8\u001b[0m \u001b[32m━━━━━━━━━━━━━━━━━━━━\u001b[0m\u001b[37m\u001b[0m \u001b[1m35s\u001b[0m 5s/step - acc: 0.9559 - loss: 0.2668 - val_acc: 0.9625 - val_loss: 0.2670\n",
      "Epoch 25/30\n",
      "\u001b[1m8/8\u001b[0m \u001b[32m━━━━━━━━━━━━━━━━━━━━\u001b[0m\u001b[37m\u001b[0m \u001b[1m41s\u001b[0m 6s/step - acc: 0.9658 - loss: 0.2689 - val_acc: 0.9625 - val_loss: 0.2611\n",
      "Epoch 26/30\n",
      "\u001b[1m8/8\u001b[0m \u001b[32m━━━━━━━━━━━━━━━━━━━━\u001b[0m\u001b[37m\u001b[0m \u001b[1m35s\u001b[0m 5s/step - acc: 0.9144 - loss: 0.3277 - val_acc: 0.9625 - val_loss: 0.2539\n",
      "Epoch 27/30\n",
      "\u001b[1m8/8\u001b[0m \u001b[32m━━━━━━━━━━━━━━━━━━━━\u001b[0m\u001b[37m\u001b[0m \u001b[1m37s\u001b[0m 5s/step - acc: 0.9274 - loss: 0.2959 - val_acc: 0.9625 - val_loss: 0.2476\n",
      "Epoch 28/30\n",
      "\u001b[1m8/8\u001b[0m \u001b[32m━━━━━━━━━━━━━━━━━━━━\u001b[0m\u001b[37m\u001b[0m \u001b[1m42s\u001b[0m 6s/step - acc: 0.9462 - loss: 0.2803 - val_acc: 0.9625 - val_loss: 0.2417\n",
      "Epoch 29/30\n",
      "\u001b[1m8/8\u001b[0m \u001b[32m━━━━━━━━━━━━━━━━━━━━\u001b[0m\u001b[37m\u001b[0m \u001b[1m35s\u001b[0m 5s/step - acc: 0.9683 - loss: 0.2207 - val_acc: 0.9625 - val_loss: 0.2362\n",
      "Epoch 30/30\n",
      "\u001b[1m8/8\u001b[0m \u001b[32m━━━━━━━━━━━━━━━━━━━━\u001b[0m\u001b[37m\u001b[0m \u001b[1m40s\u001b[0m 6s/step - acc: 0.9910 - loss: 0.2644 - val_acc: 0.9625 - val_loss: 0.2310\n"
     ]
    }
   ],
   "source": [
    "epochs = 30\n",
    "\n",
    "callbacks = [\n",
    "    keras.callbacks.ModelCheckpoint(\"save_at_{epoch}.keras\"),\n",
    "]\n",
    "model.compile(\n",
    "    optimizer=keras.optimizers.Adam(learning_rate=3e-4), # changed to updated optimizer API\n",
    "    loss=keras.losses.BinaryCrossentropy(from_logits=True),\n",
    "    metrics=[keras.metrics.BinaryAccuracy(name=\"acc\")],\n",
    ")\n",
    "\n",
    "history = model.fit(\n",
    "    train_ds,\n",
    "    epochs=epochs,\n",
    "    callbacks=callbacks,\n",
    "    validation_data=val_ds,\n",
    ")"
   ]
  },
  {
   "cell_type": "code",
   "execution_count": 9,
   "id": "d3d7d243",
   "metadata": {},
   "outputs": [
    {
     "data": {
      "text/plain": [
       "<matplotlib.legend.Legend at 0x7f5af33e53f0>"
      ]
     },
     "execution_count": 9,
     "metadata": {},
     "output_type": "execute_result"
    },
    {
     "data": {
      "image/png": "[encoded data removed]",
      "text/plain": [
       "<Figure size 432x288 with 1 Axes>"
      ]
     },
     "metadata": {
      "needs_background": "light"
     },
     "output_type": "display_data"
    }
   ],
   "source": [
    "plt.plot(range(len(history.history[\"loss\"])),history.history[\"loss\"],label=\"Training Loss\")\n",
    "plt.plot(range(len(history.history[\"val_loss\"])),history.history[\"val_loss\"],label=\"Validation Loss\")\n",
    "plt.legend()"
   ]
  },
  {
   "cell_type": "code",
   "execution_count": 10,
   "id": "a8fee307",
   "metadata": {},
   "outputs": [
    {
     "data": {
      "text/plain": [
       "<matplotlib.legend.Legend at 0x7f5abc103b50>"
      ]
     },
     "execution_count": 10,
     "metadata": {},
     "output_type": "execute_result"
    },
    {
     "data": {
      "image/png": "[encoded data removed]",
      "text/plain": [
       "<Figure size 432x288 with 1 Axes>"
      ]
     },
     "metadata": {
      "needs_background": "light"
     },
     "output_type": "display_data"
    }
   ],
   "source": [
    "plt.plot(range(len(history.history[\"acc\"])),history.history[\"acc\"],label=\"Training Loss\")\n",
    "plt.plot(range(len(history.history[\"val_acc\"])),history.history[\"val_acc\"],label=\"Validation Loss\")\n",
    "plt.legend()"
   ]
  },
  {
   "cell_type": "code",
   "execution_count": 11,
   "id": "5e5ec33c",
   "metadata": {},
   "outputs": [],
   "source": [
    "# save model\n",
    "\n",
    "model_dir='Models'\n",
    "os.makedirs(model_dir,exist_ok=True)\n",
    "\n",
    "model_path=os.path.join(model_dir,'InceptionResNet.keras')\n",
    "model.save(model_path)"
   ]
  },
  {
   "cell_type": "code",
   "execution_count": null,
   "id": "91c057f0",
   "metadata": {},
   "outputs": [],
   "source": []
  }
 ],
 "metadata": {
  "kernelspec": {
   "display_name": "Python 3 (ipykernel)",
   "language": "python",
   "name": "python3"
  },
  "language_info": {
   "codemirror_mode": {
    "name": "ipython",
    "version": 3
   },
   "file_extension": ".py",
   "mimetype": "text/x-python",
   "name": "python",
   "nbconvert_exporter": "python",
   "pygments_lexer": "ipython3",
   "version": "3.10.12"
  }
 },
 "nbformat": 4,
 "nbformat_minor": 5
}
