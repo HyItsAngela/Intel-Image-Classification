{
 "cells": [
  {
   "cell_type": "markdown",
   "id": "19f748cc",
   "metadata": {},
   "source": [
    "This notebook compares two models from the notebooks: \"TrainBaseModel\" (MobileNetV2) and \"Train-InceptionResNetV2\" (InceptionResNetV2)."
   ]
  },
  {
   "cell_type": "markdown",
   "id": "d1df0fdc",
   "metadata": {},
   "source": [
    "## Import Libraries & Load Models"
   ]
  },
  {
   "cell_type": "code",
   "execution_count": 1,
   "id": "f822209f",
   "metadata": {},
   "outputs": [
    {
     "name": "stderr",
     "output_type": "stream",
     "text": [
      "2024-08-07 18:09:17.550949: I tensorflow/core/util/port.cc:153] oneDNN custom operations are on. You may see slightly different numerical results due to floating-point round-off errors from different computation orders. To turn them off, set the environment variable `TF_ENABLE_ONEDNN_OPTS=0`.\n",
      "2024-08-07 18:09:17.568651: I external/local_xla/xla/tsl/cuda/cudart_stub.cc:32] Could not find cuda drivers on your machine, GPU will not be used.\n",
      "2024-08-07 18:09:17.704927: I external/local_xla/xla/tsl/cuda/cudart_stub.cc:32] Could not find cuda drivers on your machine, GPU will not be used.\n",
      "2024-08-07 18:09:17.851613: E external/local_xla/xla/stream_executor/cuda/cuda_fft.cc:485] Unable to register cuFFT factory: Attempting to register factory for plugin cuFFT when one has already been registered\n",
      "2024-08-07 18:09:17.973967: E external/local_xla/xla/stream_executor/cuda/cuda_dnn.cc:8454] Unable to register cuDNN factory: Attempting to register factory for plugin cuDNN when one has already been registered\n",
      "2024-08-07 18:09:18.003023: E external/local_xla/xla/stream_executor/cuda/cuda_blas.cc:1452] Unable to register cuBLAS factory: Attempting to register factory for plugin cuBLAS when one has already been registered\n",
      "2024-08-07 18:09:18.211759: I tensorflow/core/platform/cpu_feature_guard.cc:210] This TensorFlow binary is optimized to use available CPU instructions in performance-critical operations.\n",
      "To enable the following instructions: AVX2 AVX512F AVX512_VNNI FMA, in other operations, rebuild TensorFlow with the appropriate compiler flags.\n",
      "2024-08-07 18:09:19.833897: W tensorflow/compiler/tf2tensorrt/utils/py_utils.cc:38] TF-TRT Warning: Could not find TensorRT\n"
     ]
    }
   ],
   "source": [
    "import numpy as np\n",
    "import matplotlib.pyplot as plt\n",
    "import tensorflow as tf\n",
    "from tensorflow.keras.applications import MobileNetV2, NASNetLarge, InceptionResNetV2\n",
    "from tensorflow.keras.applications.mobilenet_v2 import preprocess_input as preprocess_mobile\n",
    "from tensorflow.keras.applications.nasnet import preprocess_input as preprocess_nas\n",
    "from tensorflow.keras.applications.inception_resnet_v2 import preprocess_input as preprocess_inc\n",
    "from sklearn.metrics import roc_curve, auc\n",
    "from data_loader import load_dir, create_dataset"
   ]
  },
  {
   "cell_type": "code",
   "execution_count": 2,
   "id": "bd4832ff",
   "metadata": {},
   "outputs": [],
   "source": [
    "model_mobile = tf.keras.models.load_model('Models/BaseModel.keras')\n",
    "model_nas = tf.keras.models.load_model('Models/NASnetLarge.keras')\n",
    "model_inc = tf.keras.models.load_model('Models/InceptionResNet.keras')"
   ]
  },
  {
   "cell_type": "markdown",
   "id": "31f7199b",
   "metadata": {},
   "source": [
    "## Load & Prepare Data"
   ]
  },
  {
   "cell_type": "code",
   "execution_count": 3,
   "id": "043568f9",
   "metadata": {},
   "outputs": [],
   "source": [
    "# define\n",
    "classes = ['buildings', 'street']\n",
    "train_dir = 'first_100/seg_train/seg_train'\n",
    "test_dir = 'first_100/seg_test/seg_test'\n",
    "max_images = 50  # Number of images per class\n",
    "\n",
    "image_size_mobile = (224, 224)\n",
    "image_size_nas = (331, 331)\n",
    "image_size_inc = (299, 299)\n",
    "\n",
    "num_classes=2\n",
    "batch_size=30"
   ]
  },
  {
   "cell_type": "code",
   "execution_count": 4,
   "id": "687b9063",
   "metadata": {},
   "outputs": [],
   "source": [
    "def resize(images, model, target_size):\n",
    "    if model == \"MobileNetV2\":\n",
    "        preprocess_func = preprocess_mobile\n",
    "    elif model == \"NASNetLarge\":\n",
    "        preprocess_func = preprocess_nas\n",
    "    elif model == \"InceptionResNetV2\":\n",
    "        preprocess_func = preprocess_inc\n",
    "    else:\n",
    "        raise ValueError(\"Unsupported model name\")\n",
    "    \n",
    "    resized_images = np.array([tf.image.resize(img, target_size) for img in images])\n",
    "    preprocessed_images = preprocess_func(resized_images)\n",
    "    return preprocessed_images"
   ]
  },
  {
   "cell_type": "code",
   "execution_count": 5,
   "id": "608e14f2",
   "metadata": {},
   "outputs": [],
   "source": [
    "# load\n",
    "train_images, train_labels = load_dir(train_dir, classes, max_images,image_size_mobile)\n",
    "test_images, test_labels = load_dir(test_dir, classes, max_images,image_size_mobile)\n",
    "\n",
    "test_ds = create_dataset(test_images, test_labels, batch_size=batch_size)"
   ]
  },
  {
   "cell_type": "code",
   "execution_count": 6,
   "id": "692f1c44",
   "metadata": {},
   "outputs": [],
   "source": [
    "# resize\n",
    "test_images_mobile = resize(test_images, \"MobileNetV2\", image_size_mobile)\n",
    "test_images_nas = resize(test_images, \"NASNetLarge\", image_size_nas)\n",
    "test_images_inc = resize(test_images, \"InceptionResNetV2\", image_size_inc)"
   ]
  },
  {
   "cell_type": "code",
   "execution_count": 7,
   "id": "e724d5c8",
   "metadata": {
    "scrolled": false
   },
   "outputs": [
    {
     "name": "stdout",
     "output_type": "stream",
     "text": [
      "MobileNetV2 test images shape: (100, 224, 224, 3)\n",
      "NASNetLarge test images shape: (100, 331, 331, 3)\n",
      "InceptionResNetV2 test images shape: (100, 299, 299, 3)\n"
     ]
    }
   ],
   "source": [
    "# verify shapes\n",
    "print(\"MobileNetV2 test images shape:\", test_images_mobile.shape)\n",
    "print(\"NASNetLarge test images shape:\", test_images_nas.shape)\n",
    "print(\"InceptionResNetV2 test images shape:\", test_images_inc.shape)"
   ]
  },
  {
   "cell_type": "code",
   "execution_count": 8,
   "id": "4c06950f",
   "metadata": {},
   "outputs": [
    {
     "name": "stdout",
     "output_type": "stream",
     "text": [
      "\u001b[1m4/4\u001b[0m \u001b[32m━━━━━━━━━━━━━━━━━━━━\u001b[0m\u001b[37m\u001b[0m \u001b[1m3s\u001b[0m 616ms/step\n"
     ]
    }
   ],
   "source": [
    "# predict mobile\n",
    "probs_mobile=model_mobile.predict(test_images_mobile)"
   ]
  },
  {
   "cell_type": "code",
   "execution_count": null,
   "id": "38c958a6",
   "metadata": {},
   "outputs": [
    {
     "name": "stderr",
     "output_type": "stream",
     "text": [
      "2024-08-07 18:08:47.268066: W tensorflow/core/kernels/data/prefetch_autotuner.cc:52] Prefetch autotuner tried to allocate 42071424 bytes after encountering the first element of size 42071424 bytes.This already causes the autotune ram budget to be exceeded. To stay within the ram budget, either increase the ram budget or reduce element size\n"
     ]
    }
   ],
   "source": [
    "# predict nas\n",
    "probs_nas=model_nas.predict(test_images_nas)"
   ]
  },
  {
   "cell_type": "markdown",
   "id": "d8cf76ce",
   "metadata": {},
   "source": [
    "Does not have enough memory to predict with NASNetLarge model. Will split model comparison notebooks -- NASNetLarge will be in notebook, \"CompareModels-Nas\""
   ]
  },
  {
   "cell_type": "code",
   "execution_count": 9,
   "id": "c2fc789a",
   "metadata": {},
   "outputs": [
    {
     "name": "stdout",
     "output_type": "stream",
     "text": [
      "\u001b[1m4/4\u001b[0m \u001b[32m━━━━━━━━━━━━━━━━━━━━\u001b[0m\u001b[37m\u001b[0m \u001b[1m17s\u001b[0m 3s/step\n"
     ]
    }
   ],
   "source": [
    "# predict inc\n",
    "probs_inc=model_inc.predict(test_images_inc)"
   ]
  },
  {
   "cell_type": "markdown",
   "id": "3bafe9f0",
   "metadata": {},
   "source": [
    "']\n",
    "## Evaluate Models & Compare ROC"
   ]
  },
  {
   "cell_type": "code",
   "execution_count": 10,
   "id": "f07a5f77",
   "metadata": {},
   "outputs": [],
   "source": [
    "# ROC and AUCs\n",
    "# fpr_nas, tpr_nas, _ = roc_curve(test_labels, probs_nas)\n",
    "fpr_mobile, tpr_mobile, _ = roc_curve(test_labels, probs_mobile)\n",
    "fpr_inc, tpr_inc, _ = roc_curve(test_labels, probs_inc)\n",
    "\n",
    "# roc_auc_nas = auc(fpr_nas, tpr_nas)\n",
    "roc_auc_mobile = auc(fpr_mobile, tpr_mobile)\n",
    "roc_auc_inc = auc(fpr_inc, tpr_inc)"
   ]
  },
  {
   "cell_type": "code",
   "execution_count": 11,
   "id": "6d39e8da",
   "metadata": {},
   "outputs": [
    {
     "data": {
      "image/png": "[encoded data removed]",
      "text/plain": [
       "<Figure size 720x576 with 1 Axes>"
      ]
     },
     "metadata": {
      "needs_background": "light"
     },
     "output_type": "display_data"
    }
   ],
   "source": [
    "# plot\n",
    "plt.figure(figsize=(10, 8))\n",
    "# plt.plot(fpr_nas, tpr_nas, color='blue', lw=2, label=f'NASNetLarge (AUC = {roc_auc_nas:.2f})')\n",
    "plt.plot(fpr_mobile, tpr_mobile, color='red', lw=2, label=f'MobileNetV2 (AUC = {roc_auc_mobile:.2f})')\n",
    "plt.plot(fpr_inc, tpr_inc, color='green', lw=2, label=f'InceptionResNetV2 (AUC = {roc_auc_inc:.2f})')\n",
    "plt.plot([0, 1], [0, 1], color='gray', linestyle='--')\n",
    "plt.xlim([0.0, 1.0])\n",
    "plt.ylim([0.0, 1.05])\n",
    "plt.xlabel('False Positive Rate')\n",
    "plt.ylabel('True Positive Rate')\n",
    "plt.title('Receiver Operating Characteristic (ROC)')\n",
    "plt.legend(loc='lower right')\n",
    "plt.show()"
   ]
  },
  {
   "cell_type": "markdown",
   "id": "d665c7a7",
   "metadata": {},
   "source": [
    "MobileNetV2 performs better than InceptionResNetV2, but it's still not an ideal model."
   ]
  },
  {
   "cell_type": "code",
   "execution_count": null,
   "id": "43472720",
   "metadata": {},
   "outputs": [],
   "source": []
  }
 ],
 "metadata": {
  "kernelspec": {
   "display_name": "Python 3 (ipykernel)",
   "language": "python",
   "name": "python3"
  },
  "language_info": {
   "codemirror_mode": {
    "name": "ipython",
    "version": 3
   },
   "file_extension": ".py",
   "mimetype": "text/x-python",
   "name": "python",
   "nbconvert_exporter": "python",
   "pygments_lexer": "ipython3",
   "version": "3.10.12"
  }
 },
 "nbformat": 4,
 "nbformat_minor": 5
}
