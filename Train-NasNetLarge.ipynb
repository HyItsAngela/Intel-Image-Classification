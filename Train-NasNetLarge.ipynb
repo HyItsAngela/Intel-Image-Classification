{
 "cells": [
  {
   "cell_type": "markdown",
   "id": "922be4b0",
   "metadata": {},
   "source": [
    "### Model: NasNetLarge"
   ]
  },
  {
   "cell_type": "markdown",
   "id": "1e27c422",
   "metadata": {},
   "source": [
    "## Import Libraries & Load Data"
   ]
  },
  {
   "cell_type": "code",
   "execution_count": 1,
   "id": "a59f6cc3",
   "metadata": {},
   "outputs": [
    {
     "name": "stderr",
     "output_type": "stream",
     "text": [
      "2024-08-07 17:08:53.497951: I tensorflow/core/util/port.cc:153] oneDNN custom operations are on. You may see slightly different numerical results due to floating-point round-off errors from different computation orders. To turn them off, set the environment variable `TF_ENABLE_ONEDNN_OPTS=0`.\n",
      "2024-08-07 17:08:53.518552: I external/local_xla/xla/tsl/cuda/cudart_stub.cc:32] Could not find cuda drivers on your machine, GPU will not be used.\n",
      "2024-08-07 17:08:53.617490: I external/local_xla/xla/tsl/cuda/cudart_stub.cc:32] Could not find cuda drivers on your machine, GPU will not be used.\n",
      "2024-08-07 17:08:53.721383: E external/local_xla/xla/stream_executor/cuda/cuda_fft.cc:485] Unable to register cuFFT factory: Attempting to register factory for plugin cuFFT when one has already been registered\n",
      "2024-08-07 17:08:53.798559: E external/local_xla/xla/stream_executor/cuda/cuda_dnn.cc:8454] Unable to register cuDNN factory: Attempting to register factory for plugin cuDNN when one has already been registered\n",
      "2024-08-07 17:08:53.820838: E external/local_xla/xla/stream_executor/cuda/cuda_blas.cc:1452] Unable to register cuBLAS factory: Attempting to register factory for plugin cuBLAS when one has already been registered\n",
      "2024-08-07 17:08:53.977106: I tensorflow/core/platform/cpu_feature_guard.cc:210] This TensorFlow binary is optimized to use available CPU instructions in performance-critical operations.\n",
      "To enable the following instructions: AVX2 AVX512F AVX512_VNNI FMA, in other operations, rebuild TensorFlow with the appropriate compiler flags.\n",
      "2024-08-07 17:08:55.796052: W tensorflow/compiler/tf2tensorrt/utils/py_utils.cc:38] TF-TRT Warning: Could not find TensorRT\n"
     ]
    }
   ],
   "source": [
    "import os\n",
    "import numpy as np\n",
    "import tensorflow as tf\n",
    "from tensorflow import keras\n",
    "from keras import layers\n",
    "import matplotlib.pyplot as plt\n",
    "from data_loader import load_dir, split_data, create_dataset, data_augmentation"
   ]
  },
  {
   "cell_type": "code",
   "execution_count": 2,
   "id": "cc0ea17f",
   "metadata": {},
   "outputs": [],
   "source": [
    "# define \n",
    "classes = ['buildings', 'street']\n",
    "train_dir = 'first_100/seg_train/seg_train'\n",
    "test_dir = 'first_100/seg_test/seg_test'\n",
    "max_images = 50  # Number of images per class\n",
    "\n",
    "image_size=(331,331) #NASnet requires a larger image size\n",
    "num_classes=2"
   ]
  },
  {
   "cell_type": "code",
   "execution_count": 3,
   "id": "1de2b648",
   "metadata": {},
   "outputs": [],
   "source": [
    "# Load images and labels\n",
    "train_images, train_labels = load_dir(train_dir, classes, max_images, image_size)\n",
    "test_images, test_labels = load_dir(test_dir, classes, max_images, image_size)"
   ]
  },
  {
   "cell_type": "code",
   "execution_count": 4,
   "id": "df417856",
   "metadata": {},
   "outputs": [],
   "source": [
    "# Split the training data into train and validation sets\n",
    "train_images, train_labels, val_images, val_labels = split_data(train_images, train_labels, val_split=0.2)"
   ]
  },
  {
   "cell_type": "code",
   "execution_count": 5,
   "id": "52893128",
   "metadata": {},
   "outputs": [],
   "source": [
    "# Create train and validation datasets\n",
    "train_ds = create_dataset(train_images, train_labels, batch_size=10)\n",
    "val_ds = create_dataset(val_images, val_labels, batch_size=10)\n",
    "\n",
    "test_ds = create_dataset(test_images, test_labels, batch_size=10)"
   ]
  },
  {
   "cell_type": "markdown",
   "id": "97800e5c",
   "metadata": {},
   "source": [
    "## Train Model"
   ]
  },
  {
   "cell_type": "code",
   "execution_count": 6,
   "id": "c76df9ca",
   "metadata": {},
   "outputs": [],
   "source": [
    "def make_transfer_model(input_shape, num_classes):\n",
    "    # Load the pre-trained weights of NASNetLarge and freeze the weights\n",
    "    backbone = keras.applications.NASNetLarge(\n",
    "        weights=\"imagenet\",\n",
    "        include_top=False,\n",
    "        input_shape=input_shape,\n",
    "    )\n",
    "    backbone.trainable = False\n",
    "\n",
    "    inputs = layers.Input(input_shape)\n",
    "    x = keras.applications.nasnet.preprocess_input(inputs)\n",
    "    x = backbone(x)\n",
    "    x = layers.Dropout(0.3)(x)\n",
    "    \n",
    "    x = layers.GlobalAveragePooling2D()(x)\n",
    "    if num_classes == 2:\n",
    "        units = 1\n",
    "    else:\n",
    "        units = num_classes\n",
    "\n",
    "    x = layers.Dropout(0.25)(x)\n",
    "    # We specify activation=None so as to return logits\n",
    "    outputs = layers.Dense(units, activation=None)(x)\n",
    "\n",
    "    return keras.Model(inputs, outputs, name=\"keypoint_detector\")"
   ]
  },
  {
   "cell_type": "code",
   "execution_count": 7,
   "id": "c32240c1",
   "metadata": {},
   "outputs": [],
   "source": [
    "model = make_transfer_model(input_shape=image_size + (3,), num_classes=2)"
   ]
  },
  {
   "cell_type": "code",
   "execution_count": 8,
   "id": "111e3cd4",
   "metadata": {},
   "outputs": [
    {
     "name": "stdout",
     "output_type": "stream",
     "text": [
      "Epoch 1/20\n",
      "\u001b[1m8/8\u001b[0m \u001b[32m━━━━━━━━━━━━━━━━━━━━\u001b[0m\u001b[37m\u001b[0m \u001b[1m83s\u001b[0m 8s/step - acc: 0.5240 - loss: 0.6401 - val_acc: 0.6625 - val_loss: 0.5693\n",
      "Epoch 2/20\n",
      "\u001b[1m8/8\u001b[0m \u001b[32m━━━━━━━━━━━━━━━━━━━━\u001b[0m\u001b[37m\u001b[0m \u001b[1m68s\u001b[0m 9s/step - acc: 0.5976 - loss: 0.5689 - val_acc: 0.8625 - val_loss: 0.5117\n",
      "Epoch 3/20\n",
      "\u001b[1m8/8\u001b[0m \u001b[32m━━━━━━━━━━━━━━━━━━━━\u001b[0m\u001b[37m\u001b[0m \u001b[1m69s\u001b[0m 10s/step - acc: 0.8175 - loss: 0.4947 - val_acc: 0.8625 - val_loss: 0.4713\n",
      "Epoch 4/20\n",
      "\u001b[1m8/8\u001b[0m \u001b[32m━━━━━━━━━━━━━━━━━━━━\u001b[0m\u001b[37m\u001b[0m \u001b[1m75s\u001b[0m 10s/step - acc: 0.8449 - loss: 0.4535 - val_acc: 0.9250 - val_loss: 0.4321\n",
      "Epoch 5/20\n",
      "\u001b[1m8/8\u001b[0m \u001b[32m━━━━━━━━━━━━━━━━━━━━\u001b[0m\u001b[37m\u001b[0m \u001b[1m81s\u001b[0m 11s/step - acc: 0.8673 - loss: 0.4593 - val_acc: 0.9250 - val_loss: 0.3986\n",
      "Epoch 6/20\n",
      "\u001b[1m8/8\u001b[0m \u001b[32m━━━━━━━━━━━━━━━━━━━━\u001b[0m\u001b[37m\u001b[0m \u001b[1m78s\u001b[0m 11s/step - acc: 0.8992 - loss: 0.4126 - val_acc: 0.9375 - val_loss: 0.3705\n",
      "Epoch 7/20\n",
      "\u001b[1m8/8\u001b[0m \u001b[32m━━━━━━━━━━━━━━━━━━━━\u001b[0m\u001b[37m\u001b[0m \u001b[1m72s\u001b[0m 10s/step - acc: 0.9448 - loss: 0.3563 - val_acc: 0.9375 - val_loss: 0.3456\n",
      "Epoch 8/20\n",
      "\u001b[1m8/8\u001b[0m \u001b[32m━━━━━━━━━━━━━━━━━━━━\u001b[0m\u001b[37m\u001b[0m \u001b[1m87s\u001b[0m 12s/step - acc: 0.9559 - loss: 0.3298 - val_acc: 0.9375 - val_loss: 0.3240\n",
      "Epoch 9/20\n",
      "\u001b[1m8/8\u001b[0m \u001b[32m━━━━━━━━━━━━━━━━━━━━\u001b[0m\u001b[37m\u001b[0m \u001b[1m63s\u001b[0m 9s/step - acc: 0.9214 - loss: 0.3220 - val_acc: 0.9375 - val_loss: 0.3051\n",
      "Epoch 10/20\n",
      "\u001b[1m8/8\u001b[0m \u001b[32m━━━━━━━━━━━━━━━━━━━━\u001b[0m\u001b[37m\u001b[0m \u001b[1m77s\u001b[0m 11s/step - acc: 0.9095 - loss: 0.3128 - val_acc: 0.9375 - val_loss: 0.2882\n",
      "Epoch 11/20\n",
      "\u001b[1m8/8\u001b[0m \u001b[32m━━━━━━━━━━━━━━━━━━━━\u001b[0m\u001b[37m\u001b[0m \u001b[1m77s\u001b[0m 11s/step - acc: 0.9451 - loss: 0.3058 - val_acc: 0.9375 - val_loss: 0.2728\n",
      "Epoch 12/20\n",
      "\u001b[1m8/8\u001b[0m \u001b[32m━━━━━━━━━━━━━━━━━━━━\u001b[0m\u001b[37m\u001b[0m \u001b[1m76s\u001b[0m 11s/step - acc: 0.9633 - loss: 0.2857 - val_acc: 0.9500 - val_loss: 0.2590\n",
      "Epoch 13/20\n",
      "\u001b[1m8/8\u001b[0m \u001b[32m━━━━━━━━━━━━━━━━━━━━\u001b[0m\u001b[37m\u001b[0m \u001b[1m77s\u001b[0m 11s/step - acc: 0.9527 - loss: 0.2403 - val_acc: 0.9625 - val_loss: 0.2469\n",
      "Epoch 14/20\n",
      "\u001b[1m8/8\u001b[0m \u001b[32m━━━━━━━━━━━━━━━━━━━━\u001b[0m\u001b[37m\u001b[0m \u001b[1m70s\u001b[0m 10s/step - acc: 0.9776 - loss: 0.2284 - val_acc: 0.9625 - val_loss: 0.2356\n",
      "Epoch 15/20\n",
      "\u001b[1m8/8\u001b[0m \u001b[32m━━━━━━━━━━━━━━━━━━━━\u001b[0m\u001b[37m\u001b[0m \u001b[1m72s\u001b[0m 10s/step - acc: 0.9803 - loss: 0.2234 - val_acc: 0.9625 - val_loss: 0.2252\n",
      "Epoch 16/20\n",
      "\u001b[1m8/8\u001b[0m \u001b[32m━━━━━━━━━━━━━━━━━━━━\u001b[0m\u001b[37m\u001b[0m \u001b[1m66s\u001b[0m 9s/step - acc: 0.9711 - loss: 0.2107 - val_acc: 0.9750 - val_loss: 0.2156\n",
      "Epoch 17/20\n",
      "\u001b[1m8/8\u001b[0m \u001b[32m━━━━━━━━━━━━━━━━━━━━\u001b[0m\u001b[37m\u001b[0m \u001b[1m65s\u001b[0m 9s/step - acc: 0.9379 - loss: 0.2262 - val_acc: 0.9750 - val_loss: 0.2067\n",
      "Epoch 18/20\n",
      "\u001b[1m8/8\u001b[0m \u001b[32m━━━━━━━━━━━━━━━━━━━━\u001b[0m\u001b[37m\u001b[0m \u001b[1m70s\u001b[0m 10s/step - acc: 0.9646 - loss: 0.1987 - val_acc: 0.9750 - val_loss: 0.1982\n",
      "Epoch 19/20\n",
      "\u001b[1m8/8\u001b[0m \u001b[32m━━━━━━━━━━━━━━━━━━━━\u001b[0m\u001b[37m\u001b[0m \u001b[1m66s\u001b[0m 9s/step - acc: 0.9626 - loss: 0.2125 - val_acc: 0.9625 - val_loss: 0.1899\n",
      "Epoch 20/20\n",
      "\u001b[1m8/8\u001b[0m \u001b[32m━━━━━━━━━━━━━━━━━━━━\u001b[0m\u001b[37m\u001b[0m \u001b[1m77s\u001b[0m 11s/step - acc: 0.9776 - loss: 0.2120 - val_acc: 0.9875 - val_loss: 0.1823\n"
     ]
    }
   ],
   "source": [
    "epochs = 20\n",
    "\n",
    "callbacks = [\n",
    "    keras.callbacks.ModelCheckpoint(\"save_at_{epoch}.keras\"),\n",
    "]\n",
    "model.compile(\n",
    "    optimizer=keras.optimizers.Adam(learning_rate=3e-4), # changed to updated optimizer API\n",
    "    loss=keras.losses.BinaryCrossentropy(from_logits=True),\n",
    "    metrics=[keras.metrics.BinaryAccuracy(name=\"acc\")],\n",
    ")\n",
    "\n",
    "history = model.fit(\n",
    "    train_ds,\n",
    "    epochs=epochs,\n",
    "    callbacks=callbacks,\n",
    "    validation_data=val_ds,\n",
    ")"
   ]
  },
  {
   "cell_type": "code",
   "execution_count": 9,
   "id": "f4064df8",
   "metadata": {},
   "outputs": [
    {
     "data": {
      "text/plain": [
       "<matplotlib.legend.Legend at 0x7f5aa2e72980>"
      ]
     },
     "execution_count": 9,
     "metadata": {},
     "output_type": "execute_result"
    },
    {
     "data": {
      "image/png": "[encoded data removed]",
      "text/plain": [
       "<Figure size 432x288 with 1 Axes>"
      ]
     },
     "metadata": {
      "needs_background": "light"
     },
     "output_type": "display_data"
    }
   ],
   "source": [
    "plt.plot(range(len(history.history[\"loss\"])),history.history[\"loss\"],label=\"Training Loss\")\n",
    "plt.plot(range(len(history.history[\"val_loss\"])),history.history[\"val_loss\"],label=\"Validation Loss\")\n",
    "plt.legend()"
   ]
  },
  {
   "cell_type": "code",
   "execution_count": 10,
   "id": "f52005cb",
   "metadata": {},
   "outputs": [
    {
     "data": {
      "text/plain": [
       "<matplotlib.legend.Legend at 0x7f5aa9fc72e0>"
      ]
     },
     "execution_count": 10,
     "metadata": {},
     "output_type": "execute_result"
    },
    {
     "data": {
      "image/png": "[encoded data removed]",
      "text/plain": [
       "<Figure size 432x288 with 1 Axes>"
      ]
     },
     "metadata": {
      "needs_background": "light"
     },
     "output_type": "display_data"
    }
   ],
   "source": [
    "plt.plot(range(len(history.history[\"acc\"])),history.history[\"acc\"],label=\"Training Loss\")\n",
    "plt.plot(range(len(history.history[\"val_acc\"])),history.history[\"val_acc\"],label=\"Validation Loss\")\n",
    "plt.legend()"
   ]
  },
  {
   "cell_type": "code",
   "execution_count": 11,
   "id": "902455b7",
   "metadata": {},
   "outputs": [],
   "source": [
    "# save model\n",
    "\n",
    "model_dir='Models'\n",
    "os.makedirs(model_dir,exist_ok=True)\n",
    "\n",
    "model_path=os.path.join(model_dir,'NASnetLarge.keras')\n",
    "model.save(model_path)"
   ]
  },
  {
   "cell_type": "code",
   "execution_count": null,
   "id": "d3524851",
   "metadata": {},
   "outputs": [],
   "source": []
  }
 ],
 "metadata": {
  "kernelspec": {
   "display_name": "Python 3 (ipykernel)",
   "language": "python",
   "name": "python3"
  },
  "language_info": {
   "codemirror_mode": {
    "name": "ipython",
    "version": 3
   },
   "file_extension": ".py",
   "mimetype": "text/x-python",
   "name": "python",
   "nbconvert_exporter": "python",
   "pygments_lexer": "ipython3",
   "version": "3.10.12"
  }
 },
 "nbformat": 4,
 "nbformat_minor": 5
}
